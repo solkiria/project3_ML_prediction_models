{
 "cells": [
  {
   "cell_type": "code",
   "execution_count": 1,
   "metadata": {},
   "outputs": [],
   "source": [
    "import pandas as pd\n",
    "import numpy as np\n",
    "import seaborn as sns\n",
    "import matplotlib.pyplot as plt\n",
    "import sidetable # si nos da un error este comando es por no tenerlo instalado\n",
    "from datetime import date, datetime\n",
    "from scipy import stats\n",
    "from sklearn.preprocessing import StandardScaler\n",
    "pd.options.display.max_columns=None\n",
    "# establecer el tamaño de nuestras figuras\n",
    "plt.rcParams[\"figure.figsize\"] = (10,8)"
   ]
  },
  {
   "attachments": {},
   "cell_type": "markdown",
   "metadata": {},
   "source": [
    "# En el anterior sprint:\n",
    "1. Exploramos datos\n",
    "2. Limpiamos datos\n",
    "3. EDA\n",
    "4. Comprobamos asunciones\n",
    "\n",
    "- Nuestra variable respuesta no era normal --> NO cumpliamos asunciones por lo que teníamos que centrarnos en el DT y RF"
   ]
  },
  {
   "attachments": {},
   "cell_type": "markdown",
   "metadata": {},
   "source": [
    "## Pasamos a estandarizar y codificar  nuestras variables para cada uno de nuestros DF: ocasionales, registrados y totales"
   ]
  },
  {
   "attachments": {},
   "cell_type": "markdown",
   "metadata": {},
   "source": [
    "### Codificación"
   ]
  },
  {
   "cell_type": "code",
   "execution_count": 11,
   "metadata": {},
   "outputs": [],
   "source": [
    "df = pd.read_csv('data/bikes_limpio.csv', index_col=0)"
   ]
  },
  {
   "attachments": {},
   "cell_type": "markdown",
   "metadata": {},
   "source": [
    "Primero comprobamos para cada DF (totales, registrados y ocasionales) si las variables de las columnas a codificar (estación y año) mantenían un orden:"
   ]
  },
  {
   "cell_type": "code",
   "execution_count": 25,
   "metadata": {},
   "outputs": [
    {
     "data": {
      "text/plain": [
       "Text(0.5, 1.0, 'Año')"
      ]
     },
     "execution_count": 25,
     "metadata": {},
     "output_type": "execute_result"
    },
    {
     "data": {
      "image/png": "[encoded data removed]",
      "text/plain": [
       "<Figure size 1500x500 with 2 Axes>"
      ]
     },
     "metadata": {},
     "output_type": "display_data"
    }
   ],
   "source": [
    "fig, axes = plt.subplots(1, 2, figsize=(15, 5), sharey=True)\n",
    "fig.suptitle('Codificación')\n",
    "\n",
    "# Estación\n",
    "sns.barplot(ax=axes[0], x=df['estacion_correcta'], y=df['total'])\n",
    "axes[0].set_title('Estación')\n",
    "\n",
    "# Año\n",
    "sns.barplot(ax=axes[1],x = df['año_bueno'], y = df['total'])\n",
    "axes[1].set_title('Año')\n",
    "\n"
   ]
  },
  {
   "attachments": {},
   "cell_type": "markdown",
   "metadata": {},
   "source": [
    "Concluimos que tanto los datos de la columna 'año' como 'estación' guardan un orden y codificamos ambas con un map, dándole su peso correspondiente. El df resultante queda así:"
   ]
  },
  {
   "cell_type": "code",
   "execution_count": 21,
   "metadata": {},
   "outputs": [
    {
     "data": {
      "text/html": [
       "<div>\n",
       "<style scoped>\n",
       "    .dataframe tbody tr th:only-of-type {\n",
       "        vertical-align: middle;\n",
       "    }\n",
       "\n",
       "    .dataframe tbody tr th {\n",
       "        vertical-align: top;\n",
       "    }\n",
       "\n",
       "    .dataframe thead th {\n",
       "        text-align: right;\n",
       "    }\n",
       "</style>\n",
       "<table border=\"1\" class=\"dataframe\">\n",
       "  <thead>\n",
       "    <tr style=\"text-align: right;\">\n",
       "      <th></th>\n",
       "      <th>registro</th>\n",
       "      <th>clima</th>\n",
       "      <th>temperatura</th>\n",
       "      <th>sens_termica</th>\n",
       "      <th>humedad</th>\n",
       "      <th>viento</th>\n",
       "      <th>total</th>\n",
       "      <th>fecha_nueva</th>\n",
       "      <th>festividad</th>\n",
       "      <th>festividad_1</th>\n",
       "      <th>mes_bueno</th>\n",
       "      <th>dia_semana_nuevo</th>\n",
       "      <th>no_laboral_nuevo</th>\n",
       "      <th>año_map</th>\n",
       "      <th>estacion_map</th>\n",
       "    </tr>\n",
       "  </thead>\n",
       "  <tbody>\n",
       "    <tr>\n",
       "      <th>199</th>\n",
       "      <td>200</td>\n",
       "      <td>1</td>\n",
       "      <td>31.8</td>\n",
       "      <td>37.4</td>\n",
       "      <td>65.0</td>\n",
       "      <td>8.8</td>\n",
       "      <td>4541</td>\n",
       "      <td>2018-07-19</td>\n",
       "      <td>NaN</td>\n",
       "      <td>0</td>\n",
       "      <td>7</td>\n",
       "      <td>3</td>\n",
       "      <td>1</td>\n",
       "      <td>0</td>\n",
       "      <td>3</td>\n",
       "    </tr>\n",
       "    <tr>\n",
       "      <th>607</th>\n",
       "      <td>608</td>\n",
       "      <td>1</td>\n",
       "      <td>31.3</td>\n",
       "      <td>34.5</td>\n",
       "      <td>59.0</td>\n",
       "      <td>11.3</td>\n",
       "      <td>7350</td>\n",
       "      <td>2019-08-31</td>\n",
       "      <td>NaN</td>\n",
       "      <td>0</td>\n",
       "      <td>8</td>\n",
       "      <td>5</td>\n",
       "      <td>0</td>\n",
       "      <td>1</td>\n",
       "      <td>3</td>\n",
       "    </tr>\n",
       "    <tr>\n",
       "      <th>546</th>\n",
       "      <td>547</td>\n",
       "      <td>1</td>\n",
       "      <td>33.4</td>\n",
       "      <td>37.5</td>\n",
       "      <td>52.0</td>\n",
       "      <td>11.3</td>\n",
       "      <td>5531</td>\n",
       "      <td>2019-07-01</td>\n",
       "      <td>NaN</td>\n",
       "      <td>0</td>\n",
       "      <td>7</td>\n",
       "      <td>0</td>\n",
       "      <td>1</td>\n",
       "      <td>1</td>\n",
       "      <td>3</td>\n",
       "    </tr>\n",
       "  </tbody>\n",
       "</table>\n",
       "</div>"
      ],
      "text/plain": [
       "     registro  clima  temperatura  sens_termica  humedad  viento  total  \\\n",
       "199       200      1         31.8          37.4     65.0     8.8   4541   \n",
       "607       608      1         31.3          34.5     59.0    11.3   7350   \n",
       "546       547      1         33.4          37.5     52.0    11.3   5531   \n",
       "\n",
       "    fecha_nueva festividad  festividad_1  mes_bueno  dia_semana_nuevo  \\\n",
       "199  2018-07-19        NaN             0          7                 3   \n",
       "607  2019-08-31        NaN             0          8                 5   \n",
       "546  2019-07-01        NaN             0          7                 0   \n",
       "\n",
       "     no_laboral_nuevo  año_map  estacion_map  \n",
       "199                 1        0             3  \n",
       "607                 0        1             3  \n",
       "546                 1        1             3  "
      ]
     },
     "execution_count": 21,
     "metadata": {},
     "output_type": "execute_result"
    }
   ],
   "source": [
    "df_totales_cod = pd.read_csv('data/totales_encod.csv', index_col=0)\n",
    "df_totales_cod.sample(3)"
   ]
  },
  {
   "attachments": {},
   "cell_type": "markdown",
   "metadata": {},
   "source": [
    "### Estandarización"
   ]
  },
  {
   "attachments": {},
   "cell_type": "markdown",
   "metadata": {},
   "source": [
    "Como tras la limpieza no tenemos outliers, utilizamos el método StandarScaler. \n",
    "\n",
    "Estandarizamos nuestras columnas numéricasno codificadas, que son: tempertaura, sens_termica, humedad y viento.\n",
    "\n",
    "Nuestro DF tras la estandarización y la codificación queda así:"
   ]
  },
  {
   "cell_type": "code",
   "execution_count": 28,
   "metadata": {},
   "outputs": [
    {
     "data": {
      "text/html": [
       "<div>\n",
       "<style scoped>\n",
       "    .dataframe tbody tr th:only-of-type {\n",
       "        vertical-align: middle;\n",
       "    }\n",
       "\n",
       "    .dataframe tbody tr th {\n",
       "        vertical-align: top;\n",
       "    }\n",
       "\n",
       "    .dataframe thead th {\n",
       "        text-align: right;\n",
       "    }\n",
       "</style>\n",
       "<table border=\"1\" class=\"dataframe\">\n",
       "  <thead>\n",
       "    <tr style=\"text-align: right;\">\n",
       "      <th></th>\n",
       "      <th>registro</th>\n",
       "      <th>clima</th>\n",
       "      <th>temperatura</th>\n",
       "      <th>sens_termica</th>\n",
       "      <th>humedad</th>\n",
       "      <th>viento</th>\n",
       "      <th>total</th>\n",
       "      <th>fecha_nueva</th>\n",
       "      <th>festividad</th>\n",
       "      <th>festividad_1</th>\n",
       "      <th>mes_bueno</th>\n",
       "      <th>dia_semana_nuevo</th>\n",
       "      <th>no_laboral_nuevo</th>\n",
       "      <th>año_map</th>\n",
       "      <th>estacion_map</th>\n",
       "    </tr>\n",
       "  </thead>\n",
       "  <tbody>\n",
       "    <tr>\n",
       "      <th>687</th>\n",
       "      <td>688</td>\n",
       "      <td>2</td>\n",
       "      <td>-0.629006</td>\n",
       "      <td>-0.604957</td>\n",
       "      <td>-0.053932</td>\n",
       "      <td>0.672334</td>\n",
       "      <td>5499</td>\n",
       "      <td>2019-11-19</td>\n",
       "      <td>NaN</td>\n",
       "      <td>0</td>\n",
       "      <td>11</td>\n",
       "      <td>1</td>\n",
       "      <td>1</td>\n",
       "      <td>1</td>\n",
       "      <td>2</td>\n",
       "    </tr>\n",
       "    <tr>\n",
       "      <th>432</th>\n",
       "      <td>433</td>\n",
       "      <td>2</td>\n",
       "      <td>-0.469052</td>\n",
       "      <td>-0.469879</td>\n",
       "      <td>-1.527684</td>\n",
       "      <td>0.056599</td>\n",
       "      <td>4569</td>\n",
       "      <td>2019-03-09</td>\n",
       "      <td>NaN</td>\n",
       "      <td>0</td>\n",
       "      <td>3</td>\n",
       "      <td>5</td>\n",
       "      <td>0</td>\n",
       "      <td>1</td>\n",
       "      <td>0</td>\n",
       "    </tr>\n",
       "    <tr>\n",
       "      <th>626</th>\n",
       "      <td>627</td>\n",
       "      <td>1</td>\n",
       "      <td>0.304058</td>\n",
       "      <td>0.401987</td>\n",
       "      <td>-0.615361</td>\n",
       "      <td>0.399625</td>\n",
       "      <td>7591</td>\n",
       "      <td>2019-09-19</td>\n",
       "      <td>NaN</td>\n",
       "      <td>0</td>\n",
       "      <td>9</td>\n",
       "      <td>3</td>\n",
       "      <td>1</td>\n",
       "      <td>1</td>\n",
       "      <td>3</td>\n",
       "    </tr>\n",
       "  </tbody>\n",
       "</table>\n",
       "</div>"
      ],
      "text/plain": [
       "     registro  clima  temperatura  sens_termica   humedad    viento  total  \\\n",
       "687       688      2    -0.629006     -0.604957 -0.053932  0.672334   5499   \n",
       "432       433      2    -0.469052     -0.469879 -1.527684  0.056599   4569   \n",
       "626       627      1     0.304058      0.401987 -0.615361  0.399625   7591   \n",
       "\n",
       "    fecha_nueva festividad  festividad_1  mes_bueno  dia_semana_nuevo  \\\n",
       "687  2019-11-19        NaN             0         11                 1   \n",
       "432  2019-03-09        NaN             0          3                 5   \n",
       "626  2019-09-19        NaN             0          9                 3   \n",
       "\n",
       "     no_laboral_nuevo  año_map  estacion_map  \n",
       "687                 1        1             2  \n",
       "432                 0        1             0  \n",
       "626                 1        1             3  "
      ]
     },
     "execution_count": 28,
     "metadata": {},
     "output_type": "execute_result"
    }
   ],
   "source": [
    "df_estand = pd.read_csv('data/totales_estand_cod.csv', index_col=0)\n",
    "df_estand.sample(3)"
   ]
  },
  {
   "attachments": {},
   "cell_type": "markdown",
   "metadata": {},
   "source": [
    "## Tras la estandarización y la codificación, pasamos al Decision Tree con nuestros múltiples sets de datos:"
   ]
  },
  {
   "attachments": {},
   "cell_type": "markdown",
   "metadata": {},
   "source": [
    "#### En general, las métricas con el Decision Tree no nos salen muy bien, por ejemplo, con ocasionales quedan así:"
   ]
  },
  {
   "cell_type": "code",
   "execution_count": 32,
   "metadata": {},
   "outputs": [
    {
     "data": {
      "text/html": [
       "<div>\n",
       "<style scoped>\n",
       "    .dataframe tbody tr th:only-of-type {\n",
       "        vertical-align: middle;\n",
       "    }\n",
       "\n",
       "    .dataframe tbody tr th {\n",
       "        vertical-align: top;\n",
       "    }\n",
       "\n",
       "    .dataframe thead th {\n",
       "        text-align: right;\n",
       "    }\n",
       "</style>\n",
       "<table border=\"1\" class=\"dataframe\">\n",
       "  <thead>\n",
       "    <tr style=\"text-align: right;\">\n",
       "      <th></th>\n",
       "      <th>MAE</th>\n",
       "      <th>MSE</th>\n",
       "      <th>RMSE</th>\n",
       "      <th>R2</th>\n",
       "      <th>set</th>\n",
       "      <th>modelo</th>\n",
       "    </tr>\n",
       "  </thead>\n",
       "  <tbody>\n",
       "    <tr>\n",
       "      <th>0</th>\n",
       "      <td>317.139869</td>\n",
       "      <td>230474.808632</td>\n",
       "      <td>480.077919</td>\n",
       "      <td>0.520268</td>\n",
       "      <td>test</td>\n",
       "      <td>Decision Tree ocasionales Codif y Estand II</td>\n",
       "    </tr>\n",
       "    <tr>\n",
       "      <th>1</th>\n",
       "      <td>304.668110</td>\n",
       "      <td>200968.639037</td>\n",
       "      <td>448.295259</td>\n",
       "      <td>0.570310</td>\n",
       "      <td>train</td>\n",
       "      <td>Decision Tree ocasionales Codif y Estand II</td>\n",
       "    </tr>\n",
       "    <tr>\n",
       "      <th>0</th>\n",
       "      <td>364.300333</td>\n",
       "      <td>263183.490717</td>\n",
       "      <td>513.014123</td>\n",
       "      <td>0.452185</td>\n",
       "      <td>test</td>\n",
       "      <td>Decision Tree ocasionales Codif II</td>\n",
       "    </tr>\n",
       "    <tr>\n",
       "      <th>1</th>\n",
       "      <td>322.441306</td>\n",
       "      <td>231818.681431</td>\n",
       "      <td>481.475525</td>\n",
       "      <td>0.504350</td>\n",
       "      <td>train</td>\n",
       "      <td>Decision Tree ocasionales Codif II</td>\n",
       "    </tr>\n",
       "  </tbody>\n",
       "</table>\n",
       "</div>"
      ],
      "text/plain": [
       "          MAE            MSE        RMSE        R2    set  \\\n",
       "0  317.139869  230474.808632  480.077919  0.520268   test   \n",
       "1  304.668110  200968.639037  448.295259  0.570310  train   \n",
       "0  364.300333  263183.490717  513.014123  0.452185   test   \n",
       "1  322.441306  231818.681431  481.475525  0.504350  train   \n",
       "\n",
       "                                        modelo  \n",
       "0  Decision Tree ocasionales Codif y Estand II  \n",
       "1  Decision Tree ocasionales Codif y Estand II  \n",
       "0           Decision Tree ocasionales Codif II  \n",
       "1           Decision Tree ocasionales Codif II  "
      ]
     },
     "execution_count": 32,
     "metadata": {},
     "output_type": "execute_result"
    }
   ],
   "source": [
    "df_metricas_ocasionales = pd.read_csv('data/metricas_ocas_dt.csv', index_col=0)\n",
    "df_metricas_ocasionales "
   ]
  },
  {
   "attachments": {},
   "cell_type": "markdown",
   "metadata": {},
   "source": [
    "#### Sin embargo, jugando con los parámetros, hemos conseguido estas métricas con el Random Forest para el DF con las bicis totales:"
   ]
  },
  {
   "cell_type": "code",
   "execution_count": 34,
   "metadata": {},
   "outputs": [
    {
     "data": {
      "text/html": [
       "<div>\n",
       "<style scoped>\n",
       "    .dataframe tbody tr th:only-of-type {\n",
       "        vertical-align: middle;\n",
       "    }\n",
       "\n",
       "    .dataframe tbody tr th {\n",
       "        vertical-align: top;\n",
       "    }\n",
       "\n",
       "    .dataframe thead th {\n",
       "        text-align: right;\n",
       "    }\n",
       "</style>\n",
       "<table border=\"1\" class=\"dataframe\">\n",
       "  <thead>\n",
       "    <tr style=\"text-align: right;\">\n",
       "      <th></th>\n",
       "      <th>MAE</th>\n",
       "      <th>MSE</th>\n",
       "      <th>RMSE</th>\n",
       "      <th>R2</th>\n",
       "      <th>set</th>\n",
       "      <th>modelo</th>\n",
       "    </tr>\n",
       "  </thead>\n",
       "  <tbody>\n",
       "    <tr>\n",
       "      <th>0</th>\n",
       "      <td>472.563510</td>\n",
       "      <td>386403.374438</td>\n",
       "      <td>621.613525</td>\n",
       "      <td>0.887110</td>\n",
       "      <td>test</td>\n",
       "      <td>Random Forest totales encod</td>\n",
       "    </tr>\n",
       "    <tr>\n",
       "      <th>1</th>\n",
       "      <td>418.963562</td>\n",
       "      <td>347100.194682</td>\n",
       "      <td>589.152098</td>\n",
       "      <td>0.909033</td>\n",
       "      <td>train</td>\n",
       "      <td>Random Forest totales encod</td>\n",
       "    </tr>\n",
       "    <tr>\n",
       "      <th>0</th>\n",
       "      <td>517.633607</td>\n",
       "      <td>463220.033871</td>\n",
       "      <td>680.602699</td>\n",
       "      <td>0.864668</td>\n",
       "      <td>test</td>\n",
       "      <td>Random Forest totales encod - estand</td>\n",
       "    </tr>\n",
       "    <tr>\n",
       "      <th>1</th>\n",
       "      <td>546.738638</td>\n",
       "      <td>534835.289735</td>\n",
       "      <td>731.324340</td>\n",
       "      <td>0.859833</td>\n",
       "      <td>train</td>\n",
       "      <td>Random Forest totales encod - estand</td>\n",
       "    </tr>\n",
       "  </tbody>\n",
       "</table>\n",
       "</div>"
      ],
      "text/plain": [
       "          MAE            MSE        RMSE        R2    set  \\\n",
       "0  472.563510  386403.374438  621.613525  0.887110   test   \n",
       "1  418.963562  347100.194682  589.152098  0.909033  train   \n",
       "0  517.633607  463220.033871  680.602699  0.864668   test   \n",
       "1  546.738638  534835.289735  731.324340  0.859833  train   \n",
       "\n",
       "                                 modelo  \n",
       "0           Random Forest totales encod  \n",
       "1           Random Forest totales encod  \n",
       "0  Random Forest totales encod - estand  \n",
       "1  Random Forest totales encod - estand  "
      ]
     },
     "execution_count": 34,
     "metadata": {},
     "output_type": "execute_result"
    }
   ],
   "source": [
    "df_metricas_RF_totales = pd.read_csv('data/metricas_RF_totales.csv', index_col=0)\n",
    "df_metricas_RF_totales"
   ]
  },
  {
   "attachments": {},
   "cell_type": "markdown",
   "metadata": {},
   "source": [
    "Los resultados para los datos sin estandarizar son los que mejor pinta tienen."
   ]
  },
  {
   "attachments": {},
   "cell_type": "markdown",
   "metadata": {},
   "source": [
    "## Próximos pasos:"
   ]
  },
  {
   "attachments": {},
   "cell_type": "markdown",
   "metadata": {},
   "source": [
    "- Realizar predicción\n",
    "- Preparar  la DEMO"
   ]
  }
 ],
 "metadata": {
  "kernelspec": {
   "display_name": "base",
   "language": "python",
   "name": "python3"
  },
  "language_info": {
   "codemirror_mode": {
    "name": "ipython",
    "version": 3
   },
   "file_extension": ".py",
   "mimetype": "text/x-python",
   "name": "python",
   "nbconvert_exporter": "python",
   "pygments_lexer": "ipython3",
   "version": "3.9.13"
  },
  "orig_nbformat": 4,
  "vscode": {
   "interpreter": {
    "hash": "bdc1fbc45439789ed458ef1b15c54bb0fc3e95b0c1769fc0690adebc57b4b45e"
   }
  }
 },
 "nbformat": 4,
 "nbformat_minor": 2
}
