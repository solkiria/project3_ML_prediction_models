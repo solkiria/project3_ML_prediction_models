{
 "cells": [
  {
   "cell_type": "code",
   "execution_count": 1,
   "metadata": {},
   "outputs": [],
   "source": [
    "#Importamos las librerías\n",
    "import pandas as pd\n",
    "import numpy as np\n",
    "import matplotlib as plt\n",
    "import seaborn as sns\n",
    "from sklearn.model_selection import train_test_split\n",
    "from sklearn.tree import DecisionTreeRegressor\n",
    "from sklearn import tree\n",
    "from sklearn.metrics import r2_score, mean_squared_error, mean_absolute_error\n",
    "from sklearn.model_selection import GridSearchCV\n",
    "\n",
    "import warnings\n",
    "warnings.filterwarnings('once')"
   ]
  },
  {
   "attachments": {},
   "cell_type": "markdown",
   "metadata": {},
   "source": [
    "Empezamos con los datos de ocasionales estandarizados y  codificados:"
   ]
  },
  {
   "cell_type": "code",
   "execution_count": 25,
   "metadata": {},
   "outputs": [
    {
     "data": {
      "text/html": [
       "<div>\n",
       "<style scoped>\n",
       "    .dataframe tbody tr th:only-of-type {\n",
       "        vertical-align: middle;\n",
       "    }\n",
       "\n",
       "    .dataframe tbody tr th {\n",
       "        vertical-align: top;\n",
       "    }\n",
       "\n",
       "    .dataframe thead th {\n",
       "        text-align: right;\n",
       "    }\n",
       "</style>\n",
       "<table border=\"1\" class=\"dataframe\">\n",
       "  <thead>\n",
       "    <tr style=\"text-align: right;\">\n",
       "      <th></th>\n",
       "      <th>registro</th>\n",
       "      <th>clima</th>\n",
       "      <th>temperatura</th>\n",
       "      <th>sens_termica</th>\n",
       "      <th>humedad</th>\n",
       "      <th>viento</th>\n",
       "      <th>ocasionales</th>\n",
       "      <th>fecha_nueva</th>\n",
       "      <th>festividad</th>\n",
       "      <th>festividad_1</th>\n",
       "      <th>mes_bueno</th>\n",
       "      <th>dia_semana_nuevo</th>\n",
       "      <th>no_laboral_nuevo</th>\n",
       "      <th>ocasionales_BOX</th>\n",
       "      <th>año_map</th>\n",
       "      <th>estacion_map</th>\n",
       "    </tr>\n",
       "  </thead>\n",
       "  <tbody>\n",
       "    <tr>\n",
       "      <th>0</th>\n",
       "      <td>1</td>\n",
       "      <td>2</td>\n",
       "      <td>-0.828948</td>\n",
       "      <td>-0.678635</td>\n",
       "      <td>1.295131</td>\n",
       "      <td>-0.376545</td>\n",
       "      <td>331</td>\n",
       "      <td>2018-01-01</td>\n",
       "      <td>New Year's Day</td>\n",
       "      <td>1</td>\n",
       "      <td>1</td>\n",
       "      <td>0</td>\n",
       "      <td>0</td>\n",
       "      <td>16.397820</td>\n",
       "      <td>0</td>\n",
       "      <td>0</td>\n",
       "    </tr>\n",
       "    <tr>\n",
       "      <th>1</th>\n",
       "      <td>2</td>\n",
       "      <td>2</td>\n",
       "      <td>-0.722312</td>\n",
       "      <td>-0.740034</td>\n",
       "      <td>0.507407</td>\n",
       "      <td>0.882110</td>\n",
       "      <td>131</td>\n",
       "      <td>2018-01-02</td>\n",
       "      <td>NaN</td>\n",
       "      <td>0</td>\n",
       "      <td>1</td>\n",
       "      <td>1</td>\n",
       "      <td>1</td>\n",
       "      <td>11.472437</td>\n",
       "      <td>0</td>\n",
       "      <td>0</td>\n",
       "    </tr>\n",
       "    <tr>\n",
       "      <th>2</th>\n",
       "      <td>3</td>\n",
       "      <td>1</td>\n",
       "      <td>-1.642047</td>\n",
       "      <td>-1.746977</td>\n",
       "      <td>-1.354487</td>\n",
       "      <td>0.861132</td>\n",
       "      <td>120</td>\n",
       "      <td>2018-01-03</td>\n",
       "      <td>NaN</td>\n",
       "      <td>0</td>\n",
       "      <td>1</td>\n",
       "      <td>2</td>\n",
       "      <td>1</td>\n",
       "      <td>11.076035</td>\n",
       "      <td>0</td>\n",
       "      <td>0</td>\n",
       "    </tr>\n",
       "  </tbody>\n",
       "</table>\n",
       "</div>"
      ],
      "text/plain": [
       "   registro  clima  temperatura  sens_termica   humedad    viento  \\\n",
       "0         1      2    -0.828948     -0.678635  1.295131 -0.376545   \n",
       "1         2      2    -0.722312     -0.740034  0.507407  0.882110   \n",
       "2         3      1    -1.642047     -1.746977 -1.354487  0.861132   \n",
       "\n",
       "   ocasionales fecha_nueva      festividad  festividad_1  mes_bueno  \\\n",
       "0          331  2018-01-01  New Year's Day             1          1   \n",
       "1          131  2018-01-02             NaN             0          1   \n",
       "2          120  2018-01-03             NaN             0          1   \n",
       "\n",
       "   dia_semana_nuevo  no_laboral_nuevo  ocasionales_BOX  año_map  estacion_map  \n",
       "0                 0                 0        16.397820        0             0  \n",
       "1                 1                 1        11.472437        0             0  \n",
       "2                 2                 1        11.076035        0             0  "
      ]
     },
     "execution_count": 25,
     "metadata": {},
     "output_type": "execute_result"
    }
   ],
   "source": [
    "df=pd.read_csv('data/ocasionales_est_encod.csv',index_col=0)\n",
    "df.head(3)"
   ]
  },
  {
   "cell_type": "code",
   "execution_count": 26,
   "metadata": {},
   "outputs": [
    {
     "data": {
      "text/plain": [
       "Index(['registro', 'clima', 'temperatura', 'sens_termica', 'humedad', 'viento',\n",
       "       'ocasionales', 'fecha_nueva', 'festividad', 'festividad_1', 'mes_bueno',\n",
       "       'dia_semana_nuevo', 'no_laboral_nuevo', 'ocasionales_BOX', 'año_map',\n",
       "       'estacion_map'],\n",
       "      dtype='object')"
      ]
     },
     "execution_count": 26,
     "metadata": {},
     "output_type": "execute_result"
    }
   ],
   "source": [
    "df.columns"
   ]
  },
  {
   "cell_type": "code",
   "execution_count": 27,
   "metadata": {},
   "outputs": [
    {
     "data": {
      "text/plain": [
       "Index(['clima', 'temperatura', 'sens_termica', 'humedad', 'viento',\n",
       "       'ocasionales', 'festividad_1', 'mes_bueno', 'dia_semana_nuevo',\n",
       "       'no_laboral_nuevo', 'año_map', 'estacion_map'],\n",
       "      dtype='object')"
      ]
     },
     "execution_count": 27,
     "metadata": {},
     "output_type": "execute_result"
    }
   ],
   "source": [
    "df.drop(['registro','fecha_nueva','festividad', 'ocasionales_BOX'], axis=1,inplace=True)\n",
    "df.columns"
   ]
  },
  {
   "cell_type": "code",
   "execution_count": 28,
   "metadata": {},
   "outputs": [],
   "source": [
    "X=df.drop(['ocasionales'],axis=1)\n",
    "y=df['ocasionales']"
   ]
  },
  {
   "cell_type": "code",
   "execution_count": 29,
   "metadata": {},
   "outputs": [
    {
     "data": {
      "text/plain": [
       "DecisionTreeRegressor(random_state=0)"
      ]
     },
     "execution_count": 29,
     "metadata": {},
     "output_type": "execute_result"
    }
   ],
   "source": [
    "# Separamos en train y test\n",
    "x_train, x_test, y_train, y_test = train_test_split(X, y, test_size=0.2, random_state=42)\n",
    "# Creamos objeto del modelo\n",
    "arbol=DecisionTreeRegressor(random_state=0)\n",
    "#Ajustamos el modelo\n",
    "arbol.fit(x_train,y_train)"
   ]
  },
  {
   "cell_type": "code",
   "execution_count": 30,
   "metadata": {},
   "outputs": [
    {
     "data": {
      "text/plain": [
       "3.3166247903554"
      ]
     },
     "execution_count": 30,
     "metadata": {},
     "output_type": "execute_result"
    }
   ],
   "source": [
    "# Obtenemos la raíz cuadrada del número de variables predictoras de nuestro árbol\n",
    "max_features = np.sqrt(len(x_train.columns))\n",
    "max_features"
   ]
  },
  {
   "cell_type": "code",
   "execution_count": 31,
   "metadata": {},
   "outputs": [
    {
     "data": {
      "text/plain": [
       "20"
      ]
     },
     "execution_count": 31,
     "metadata": {},
     "output_type": "execute_result"
    }
   ],
   "source": [
    "# Obtenemos la profundidad del árbol representado\n",
    "arbol.tree_.max_depth"
   ]
  },
  {
   "cell_type": "code",
   "execution_count": 32,
   "metadata": {},
   "outputs": [],
   "source": [
    "# Predicción para los datos de entrenamiento\n",
    "y_pred_train1 = arbol.predict(x_train)\n",
    "# Predicción para los datos de test\n",
    "y_pred_test1 = arbol.predict(x_test)"
   ]
  },
  {
   "cell_type": "code",
   "execution_count": 33,
   "metadata": {},
   "outputs": [],
   "source": [
    "def obtener_metricas(y_test_m, y_train_m, y_predict_test_m, y_predict_train_m, modelo):\n",
    "    # En un diccionario, calcular las métricas de train y test\n",
    "    resultados_metricas = {\n",
    "        'MAE': [mean_absolute_error(y_test_m, y_predict_test_m), mean_absolute_error(y_train_m, y_predict_train_m)],\n",
    "        'MSE': [mean_squared_error(y_test_m, y_predict_test_m), mean_squared_error(y_train_m, y_predict_train_m)],\n",
    "        'RMSE': [np.sqrt(mean_squared_error(y_test_m, y_predict_test_m)), np.sqrt(mean_squared_error(y_train_m, y_predict_train_m))],\n",
    "        'R2':  [r2_score(y_test_m, y_predict_test_m), r2_score(y_train_m, y_predict_train_m)],\n",
    "        \"set\": [\"test\", \"train\"], \n",
    "        \"modelo\": [modelo, modelo]}\n",
    "\n",
    "    # Pasamos a dataframe el diccionario para su mejor visualizacion\n",
    "    df_resultados_metricas = pd.DataFrame(resultados_metricas)\n",
    "\n",
    "    return df_resultados_metricas"
   ]
  },
  {
   "cell_type": "code",
   "execution_count": 34,
   "metadata": {},
   "outputs": [
    {
     "data": {
      "text/html": [
       "<div>\n",
       "<style scoped>\n",
       "    .dataframe tbody tr th:only-of-type {\n",
       "        vertical-align: middle;\n",
       "    }\n",
       "\n",
       "    .dataframe tbody tr th {\n",
       "        vertical-align: top;\n",
       "    }\n",
       "\n",
       "    .dataframe thead th {\n",
       "        text-align: right;\n",
       "    }\n",
       "</style>\n",
       "<table border=\"1\" class=\"dataframe\">\n",
       "  <thead>\n",
       "    <tr style=\"text-align: right;\">\n",
       "      <th></th>\n",
       "      <th>MAE</th>\n",
       "      <th>MSE</th>\n",
       "      <th>RMSE</th>\n",
       "      <th>R2</th>\n",
       "      <th>set</th>\n",
       "      <th>modelo</th>\n",
       "    </tr>\n",
       "  </thead>\n",
       "  <tbody>\n",
       "    <tr>\n",
       "      <th>0</th>\n",
       "      <td>260.335616</td>\n",
       "      <td>166276.417808</td>\n",
       "      <td>407.770055</td>\n",
       "      <td>0.653897</td>\n",
       "      <td>test</td>\n",
       "      <td>Decision Tree ocasionales Codif y Estand</td>\n",
       "    </tr>\n",
       "    <tr>\n",
       "      <th>1</th>\n",
       "      <td>0.000000</td>\n",
       "      <td>0.000000</td>\n",
       "      <td>0.000000</td>\n",
       "      <td>1.000000</td>\n",
       "      <td>train</td>\n",
       "      <td>Decision Tree ocasionales Codif y Estand</td>\n",
       "    </tr>\n",
       "  </tbody>\n",
       "</table>\n",
       "</div>"
      ],
      "text/plain": [
       "          MAE            MSE        RMSE        R2    set  \\\n",
       "0  260.335616  166276.417808  407.770055  0.653897   test   \n",
       "1    0.000000       0.000000    0.000000  1.000000  train   \n",
       "\n",
       "                                     modelo  \n",
       "0  Decision Tree ocasionales Codif y Estand  \n",
       "1  Decision Tree ocasionales Codif y Estand  "
      ]
     },
     "execution_count": 34,
     "metadata": {},
     "output_type": "execute_result"
    }
   ],
   "source": [
    "df_resultados1= obtener_metricas(y_test,y_train,y_pred_test1,y_pred_train1,'Decision Tree ocasionales Codif y Estand')\n",
    "df_resultados1"
   ]
  },
  {
   "cell_type": "code",
   "execution_count": 35,
   "metadata": {},
   "outputs": [],
   "source": [
    "# Definir diccionario con los hiperparámetros a modificar\n",
    "# min_samples_split: número mínimo de observaciones que debe tener un nodo para dividirse, por defecto [10, 50, 100]\n",
    "# min_samples_leaf: número mínimo de observaciones que debe tener cada uno de los nodos hijos para que se produzca la division, por defecto [10, 50, 100]\n",
    "param = {\"max_depth\": [2,4,6], \"max_features\": [1,2,3], \"min_samples_split\": [10, 150, 300], \"min_samples_leaf\": [10,150,300]}"
   ]
  },
  {
   "cell_type": "code",
   "execution_count": 36,
   "metadata": {},
   "outputs": [],
   "source": [
    "# Ajustar el modelo con GridSearchCV\n",
    "# cv = 10 --> número de veces que hacemos la validación\n",
    "# verbose = - 1 --> para no printear ningún mensaje en la pantalla\n",
    "grid = GridSearchCV(estimator=DecisionTreeRegressor(), param_grid=param, cv=10, verbose=-1,\n",
    "                        return_train_score=True, scoring=\"neg_mean_squared_error\")"
   ]
  },
  {
   "cell_type": "code",
   "execution_count": 37,
   "metadata": {},
   "outputs": [
    {
     "data": {
      "text/plain": [
       "GridSearchCV(cv=10, estimator=DecisionTreeRegressor(),\n",
       "             param_grid={'max_depth': [2, 4, 6], 'max_features': [1, 2, 3],\n",
       "                         'min_samples_leaf': [10, 150, 300],\n",
       "                         'min_samples_split': [10, 150, 300]},\n",
       "             return_train_score=True, scoring='neg_mean_squared_error',\n",
       "             verbose=-1)"
      ]
     },
     "execution_count": 37,
     "metadata": {},
     "output_type": "execute_result"
    }
   ],
   "source": [
    "# Ajustar el modelo\n",
    "grid.fit(x_train, y_train)"
   ]
  },
  {
   "cell_type": "code",
   "execution_count": 38,
   "metadata": {},
   "outputs": [
    {
     "data": {
      "text/plain": [
       "DecisionTreeRegressor(max_depth=4, max_features=3, min_samples_leaf=10,\n",
       "                      min_samples_split=10)"
      ]
     },
     "execution_count": 38,
     "metadata": {},
     "output_type": "execute_result"
    }
   ],
   "source": [
    "# El método nos dice cuál es el mejor modelo,\n",
    "mejor_modelo = grid.best_estimator_\n",
    "mejor_modelo"
   ]
  },
  {
   "cell_type": "code",
   "execution_count": 39,
   "metadata": {},
   "outputs": [],
   "source": [
    "y_pred_test_dt= mejor_modelo.predict(x_test)\n",
    "y_pred_train_dt= mejor_modelo.predict(x_train)"
   ]
  },
  {
   "cell_type": "code",
   "execution_count": 40,
   "metadata": {},
   "outputs": [
    {
     "data": {
      "text/html": [
       "<div>\n",
       "<style scoped>\n",
       "    .dataframe tbody tr th:only-of-type {\n",
       "        vertical-align: middle;\n",
       "    }\n",
       "\n",
       "    .dataframe tbody tr th {\n",
       "        vertical-align: top;\n",
       "    }\n",
       "\n",
       "    .dataframe thead th {\n",
       "        text-align: right;\n",
       "    }\n",
       "</style>\n",
       "<table border=\"1\" class=\"dataframe\">\n",
       "  <thead>\n",
       "    <tr style=\"text-align: right;\">\n",
       "      <th></th>\n",
       "      <th>MAE</th>\n",
       "      <th>MSE</th>\n",
       "      <th>RMSE</th>\n",
       "      <th>R2</th>\n",
       "      <th>set</th>\n",
       "      <th>modelo</th>\n",
       "    </tr>\n",
       "  </thead>\n",
       "  <tbody>\n",
       "    <tr>\n",
       "      <th>0</th>\n",
       "      <td>332.164138</td>\n",
       "      <td>216535.601756</td>\n",
       "      <td>465.333861</td>\n",
       "      <td>0.549282</td>\n",
       "      <td>test</td>\n",
       "      <td>Decision Tree ocasionales Codif y Estand II</td>\n",
       "    </tr>\n",
       "    <tr>\n",
       "      <th>1</th>\n",
       "      <td>316.661858</td>\n",
       "      <td>204410.964982</td>\n",
       "      <td>452.118309</td>\n",
       "      <td>0.562950</td>\n",
       "      <td>train</td>\n",
       "      <td>Decision Tree ocasionales Codif y Estand II</td>\n",
       "    </tr>\n",
       "  </tbody>\n",
       "</table>\n",
       "</div>"
      ],
      "text/plain": [
       "          MAE            MSE        RMSE        R2    set  \\\n",
       "0  332.164138  216535.601756  465.333861  0.549282   test   \n",
       "1  316.661858  204410.964982  452.118309  0.562950  train   \n",
       "\n",
       "                                        modelo  \n",
       "0  Decision Tree ocasionales Codif y Estand II  \n",
       "1  Decision Tree ocasionales Codif y Estand II  "
      ]
     },
     "execution_count": 40,
     "metadata": {},
     "output_type": "execute_result"
    }
   ],
   "source": [
    "df_resultados2= obtener_metricas(y_test,y_train,y_pred_test_dt,y_pred_train_dt,'Decision Tree ocasionales Codif y Estand II')\n",
    "df_resultados2"
   ]
  },
  {
   "cell_type": "code",
   "execution_count": 41,
   "metadata": {},
   "outputs": [
    {
     "data": {
      "text/html": [
       "<div>\n",
       "<style scoped>\n",
       "    .dataframe tbody tr th:only-of-type {\n",
       "        vertical-align: middle;\n",
       "    }\n",
       "\n",
       "    .dataframe tbody tr th {\n",
       "        vertical-align: top;\n",
       "    }\n",
       "\n",
       "    .dataframe thead th {\n",
       "        text-align: right;\n",
       "    }\n",
       "</style>\n",
       "<table border=\"1\" class=\"dataframe\">\n",
       "  <thead>\n",
       "    <tr style=\"text-align: right;\">\n",
       "      <th></th>\n",
       "      <th>clima</th>\n",
       "      <th>temperatura</th>\n",
       "      <th>sens_termica</th>\n",
       "      <th>humedad</th>\n",
       "      <th>viento</th>\n",
       "      <th>ocasionales</th>\n",
       "      <th>festividad_1</th>\n",
       "      <th>mes_bueno</th>\n",
       "      <th>dia_semana_nuevo</th>\n",
       "      <th>no_laboral_nuevo</th>\n",
       "      <th>año_map</th>\n",
       "      <th>estacion_map</th>\n",
       "    </tr>\n",
       "  </thead>\n",
       "  <tbody>\n",
       "    <tr>\n",
       "      <th>0</th>\n",
       "      <td>2</td>\n",
       "      <td>-0.828948</td>\n",
       "      <td>-0.678635</td>\n",
       "      <td>1.295131</td>\n",
       "      <td>-0.376545</td>\n",
       "      <td>331</td>\n",
       "      <td>1</td>\n",
       "      <td>1</td>\n",
       "      <td>0</td>\n",
       "      <td>0</td>\n",
       "      <td>0</td>\n",
       "      <td>0</td>\n",
       "    </tr>\n",
       "    <tr>\n",
       "      <th>1</th>\n",
       "      <td>2</td>\n",
       "      <td>-0.722312</td>\n",
       "      <td>-0.740034</td>\n",
       "      <td>0.507407</td>\n",
       "      <td>0.882110</td>\n",
       "      <td>131</td>\n",
       "      <td>0</td>\n",
       "      <td>1</td>\n",
       "      <td>1</td>\n",
       "      <td>1</td>\n",
       "      <td>0</td>\n",
       "      <td>0</td>\n",
       "    </tr>\n",
       "  </tbody>\n",
       "</table>\n",
       "</div>"
      ],
      "text/plain": [
       "   clima  temperatura  sens_termica   humedad    viento  ocasionales  \\\n",
       "0      2    -0.828948     -0.678635  1.295131 -0.376545          331   \n",
       "1      2    -0.722312     -0.740034  0.507407  0.882110          131   \n",
       "\n",
       "   festividad_1  mes_bueno  dia_semana_nuevo  no_laboral_nuevo  año_map  \\\n",
       "0             1          1                 0                 0        0   \n",
       "1             0          1                 1                 1        0   \n",
       "\n",
       "   estacion_map  \n",
       "0             0  \n",
       "1             0  "
      ]
     },
     "execution_count": 41,
     "metadata": {},
     "output_type": "execute_result"
    }
   ],
   "source": [
    "df.head(2)"
   ]
  },
  {
   "attachments": {},
   "cell_type": "markdown",
   "metadata": {},
   "source": [
    "Ahora con los datos sin estandarizar:"
   ]
  },
  {
   "cell_type": "code",
   "execution_count": 43,
   "metadata": {},
   "outputs": [],
   "source": [
    "df2 = pd.read_csv('data/ocasionales_encod.csv', index_col = 0)"
   ]
  },
  {
   "cell_type": "code",
   "execution_count": 44,
   "metadata": {},
   "outputs": [
    {
     "data": {
      "text/plain": [
       "Index(['clima', 'temperatura', 'sens_termica', 'humedad', 'viento',\n",
       "       'ocasionales', 'festividad_1', 'mes_bueno', 'dia_semana_nuevo',\n",
       "       'no_laboral_nuevo', 'año_map', 'estacion_map'],\n",
       "      dtype='object')"
      ]
     },
     "execution_count": 44,
     "metadata": {},
     "output_type": "execute_result"
    }
   ],
   "source": [
    "df2.drop(['registro','fecha_nueva','festividad', 'ocasionales_BOX'], axis=1,inplace=True)\n",
    "df2.columns"
   ]
  },
  {
   "cell_type": "code",
   "execution_count": 45,
   "metadata": {},
   "outputs": [],
   "source": [
    "X=df.drop(['ocasionales'],axis=1)\n",
    "y=df['ocasionales']"
   ]
  },
  {
   "cell_type": "code",
   "execution_count": 46,
   "metadata": {},
   "outputs": [
    {
     "data": {
      "text/plain": [
       "DecisionTreeRegressor(random_state=0)"
      ]
     },
     "execution_count": 46,
     "metadata": {},
     "output_type": "execute_result"
    }
   ],
   "source": [
    "# Separamos en train y test\n",
    "x_train, x_test, y_train, y_test = train_test_split(X, y, test_size=0.2, random_state=42)\n",
    "# Creamos objeto del modelo\n",
    "arbol=DecisionTreeRegressor(random_state=0)\n",
    "#Ajustamos el modelo\n",
    "arbol.fit(x_train,y_train)"
   ]
  },
  {
   "cell_type": "code",
   "execution_count": 47,
   "metadata": {},
   "outputs": [
    {
     "data": {
      "text/plain": [
       "3.3166247903554"
      ]
     },
     "execution_count": 47,
     "metadata": {},
     "output_type": "execute_result"
    }
   ],
   "source": [
    "# Obtenemos la raíz cuadrada del número de variables predictoras de nuestro árbol\n",
    "max_features = np.sqrt(len(x_train.columns))\n",
    "max_features"
   ]
  },
  {
   "cell_type": "code",
   "execution_count": 48,
   "metadata": {},
   "outputs": [
    {
     "data": {
      "text/plain": [
       "20"
      ]
     },
     "execution_count": 48,
     "metadata": {},
     "output_type": "execute_result"
    }
   ],
   "source": [
    "# Obtenemos la profundidad del árbol representado\n",
    "arbol.tree_.max_depth"
   ]
  },
  {
   "cell_type": "code",
   "execution_count": 49,
   "metadata": {},
   "outputs": [],
   "source": [
    "# Predicción para los datos de entrenamiento\n",
    "y_pred_train1 = arbol.predict(x_train)\n",
    "# Predicción para los datos de test\n",
    "y_pred_test1 = arbol.predict(x_test)"
   ]
  },
  {
   "cell_type": "code",
   "execution_count": 51,
   "metadata": {},
   "outputs": [
    {
     "data": {
      "text/html": [
       "<div>\n",
       "<style scoped>\n",
       "    .dataframe tbody tr th:only-of-type {\n",
       "        vertical-align: middle;\n",
       "    }\n",
       "\n",
       "    .dataframe tbody tr th {\n",
       "        vertical-align: top;\n",
       "    }\n",
       "\n",
       "    .dataframe thead th {\n",
       "        text-align: right;\n",
       "    }\n",
       "</style>\n",
       "<table border=\"1\" class=\"dataframe\">\n",
       "  <thead>\n",
       "    <tr style=\"text-align: right;\">\n",
       "      <th></th>\n",
       "      <th>MAE</th>\n",
       "      <th>MSE</th>\n",
       "      <th>RMSE</th>\n",
       "      <th>R2</th>\n",
       "      <th>set</th>\n",
       "      <th>modelo</th>\n",
       "    </tr>\n",
       "  </thead>\n",
       "  <tbody>\n",
       "    <tr>\n",
       "      <th>0</th>\n",
       "      <td>260.335616</td>\n",
       "      <td>166276.417808</td>\n",
       "      <td>407.770055</td>\n",
       "      <td>0.653897</td>\n",
       "      <td>test</td>\n",
       "      <td>Decision Tree ocasionales Codif</td>\n",
       "    </tr>\n",
       "    <tr>\n",
       "      <th>1</th>\n",
       "      <td>0.000000</td>\n",
       "      <td>0.000000</td>\n",
       "      <td>0.000000</td>\n",
       "      <td>1.000000</td>\n",
       "      <td>train</td>\n",
       "      <td>Decision Tree ocasionales Codif</td>\n",
       "    </tr>\n",
       "  </tbody>\n",
       "</table>\n",
       "</div>"
      ],
      "text/plain": [
       "          MAE            MSE        RMSE        R2    set  \\\n",
       "0  260.335616  166276.417808  407.770055  0.653897   test   \n",
       "1    0.000000       0.000000    0.000000  1.000000  train   \n",
       "\n",
       "                            modelo  \n",
       "0  Decision Tree ocasionales Codif  \n",
       "1  Decision Tree ocasionales Codif  "
      ]
     },
     "execution_count": 51,
     "metadata": {},
     "output_type": "execute_result"
    }
   ],
   "source": [
    "df_resultados3= obtener_metricas(y_test,y_train,y_pred_test1,y_pred_train1,'Decision Tree ocasionales Codif')\n",
    "df_resultados3"
   ]
  },
  {
   "cell_type": "code",
   "execution_count": 52,
   "metadata": {},
   "outputs": [],
   "source": [
    "# Definir diccionario con los hiperparámetros a modificar\n",
    "# min_samples_split: número mínimo de observaciones que debe tener un nodo para dividirse, por defecto [10, 50, 100]\n",
    "# min_samples_leaf: número mínimo de observaciones que debe tener cada uno de los nodos hijos para que se produzca la division, por defecto [10, 50, 100]\n",
    "param = {\"max_depth\": [3,7,10], \"max_features\": [1,2,3], \"min_samples_split\": [10, 150, 300], \"min_samples_leaf\": [10,150,300]}"
   ]
  },
  {
   "cell_type": "code",
   "execution_count": 53,
   "metadata": {},
   "outputs": [],
   "source": [
    "# Ajustar el modelo con GridSearchCV\n",
    "# cv = 10 --> número de veces que hacemos la validación\n",
    "# verbose = - 1 --> para no printear ningún mensaje en la pantalla\n",
    "grid = GridSearchCV(estimator=DecisionTreeRegressor(), param_grid=param, cv=10, verbose=-1,\n",
    "                        return_train_score=True, scoring=\"neg_mean_squared_error\")"
   ]
  },
  {
   "cell_type": "code",
   "execution_count": 54,
   "metadata": {},
   "outputs": [
    {
     "data": {
      "text/plain": [
       "GridSearchCV(cv=10, estimator=DecisionTreeRegressor(),\n",
       "             param_grid={'max_depth': [3, 7, 10], 'max_features': [1, 2, 3],\n",
       "                         'min_samples_leaf': [10, 150, 300],\n",
       "                         'min_samples_split': [10, 150, 300]},\n",
       "             return_train_score=True, scoring='neg_mean_squared_error',\n",
       "             verbose=-1)"
      ]
     },
     "execution_count": 54,
     "metadata": {},
     "output_type": "execute_result"
    }
   ],
   "source": [
    "# Ajustar el modelo\n",
    "grid.fit(x_train, y_train)"
   ]
  },
  {
   "cell_type": "code",
   "execution_count": 55,
   "metadata": {},
   "outputs": [
    {
     "data": {
      "text/plain": [
       "DecisionTreeRegressor(max_depth=7, max_features=3, min_samples_leaf=10,\n",
       "                      min_samples_split=10)"
      ]
     },
     "execution_count": 55,
     "metadata": {},
     "output_type": "execute_result"
    }
   ],
   "source": [
    "# El método nos dice cuál es el mejor modelo,\n",
    "mejor_modelo = grid.best_estimator_\n",
    "mejor_modelo"
   ]
  },
  {
   "cell_type": "code",
   "execution_count": 56,
   "metadata": {},
   "outputs": [],
   "source": [
    "y_pred_test_dt= mejor_modelo.predict(x_test)\n",
    "y_pred_train_dt= mejor_modelo.predict(x_train)"
   ]
  },
  {
   "cell_type": "code",
   "execution_count": 57,
   "metadata": {},
   "outputs": [
    {
     "data": {
      "text/html": [
       "<div>\n",
       "<style scoped>\n",
       "    .dataframe tbody tr th:only-of-type {\n",
       "        vertical-align: middle;\n",
       "    }\n",
       "\n",
       "    .dataframe tbody tr th {\n",
       "        vertical-align: top;\n",
       "    }\n",
       "\n",
       "    .dataframe thead th {\n",
       "        text-align: right;\n",
       "    }\n",
       "</style>\n",
       "<table border=\"1\" class=\"dataframe\">\n",
       "  <thead>\n",
       "    <tr style=\"text-align: right;\">\n",
       "      <th></th>\n",
       "      <th>MAE</th>\n",
       "      <th>MSE</th>\n",
       "      <th>RMSE</th>\n",
       "      <th>R2</th>\n",
       "      <th>set</th>\n",
       "      <th>modelo</th>\n",
       "    </tr>\n",
       "  </thead>\n",
       "  <tbody>\n",
       "    <tr>\n",
       "      <th>0</th>\n",
       "      <td>300.541051</td>\n",
       "      <td>207394.437745</td>\n",
       "      <td>455.405795</td>\n",
       "      <td>0.568310</td>\n",
       "      <td>test</td>\n",
       "      <td>Decision Tree ocasionales Codif II</td>\n",
       "    </tr>\n",
       "    <tr>\n",
       "      <th>1</th>\n",
       "      <td>294.621909</td>\n",
       "      <td>186176.027495</td>\n",
       "      <td>431.481202</td>\n",
       "      <td>0.601938</td>\n",
       "      <td>train</td>\n",
       "      <td>Decision Tree ocasionales Codif II</td>\n",
       "    </tr>\n",
       "  </tbody>\n",
       "</table>\n",
       "</div>"
      ],
      "text/plain": [
       "          MAE            MSE        RMSE        R2    set  \\\n",
       "0  300.541051  207394.437745  455.405795  0.568310   test   \n",
       "1  294.621909  186176.027495  431.481202  0.601938  train   \n",
       "\n",
       "                               modelo  \n",
       "0  Decision Tree ocasionales Codif II  \n",
       "1  Decision Tree ocasionales Codif II  "
      ]
     },
     "execution_count": 57,
     "metadata": {},
     "output_type": "execute_result"
    }
   ],
   "source": [
    "df_resultados4= obtener_metricas(y_test,y_train,y_pred_test_dt,y_pred_train_dt,'Decision Tree ocasionales Codif II')\n",
    "df_resultados4"
   ]
  }
 ],
 "metadata": {
  "kernelspec": {
   "display_name": "base",
   "language": "python",
   "name": "python3"
  },
  "language_info": {
   "codemirror_mode": {
    "name": "ipython",
    "version": 3
   },
   "file_extension": ".py",
   "mimetype": "text/x-python",
   "name": "python",
   "nbconvert_exporter": "python",
   "pygments_lexer": "ipython3",
   "version": "3.9.13"
  },
  "orig_nbformat": 4,
  "vscode": {
   "interpreter": {
    "hash": "bdc1fbc45439789ed458ef1b15c54bb0fc3e95b0c1769fc0690adebc57b4b45e"
   }
  }
 },
 "nbformat": 4,
 "nbformat_minor": 2
}
